{
 "cells": [
  {
   "cell_type": "markdown",
   "id": "9b7b2942",
   "metadata": {},
   "source": [
    "# Learn the basics\n",
    "My study notes and extracts while going through *PyTorch: Learn the Basics* [tutorial](https://docs.pytorch.org/tutorials/beginner/basics/intro.html)."
   ]
  },
  {
   "cell_type": "markdown",
   "id": "5b936397",
   "metadata": {},
   "source": [
    "## Tensors\n",
    "- can share the same memory with Numpy arrays;\n",
    "- optimized for automaitic differentation;\n",
    "- a multi-dimensional array  with rank >= (0 - scalars, 1 - vectors, 2 - matrices). Don't confuse this with *matrix rank* in linear algebra."
   ]
  },
  {
   "cell_type": "code",
   "execution_count": 40,
   "id": "253c1d0d",
   "metadata": {},
   "outputs": [],
   "source": [
    "import torch\n",
    "import numpy as np"
   ]
  },
  {
   "cell_type": "code",
   "execution_count": 41,
   "id": "2ea0092f",
   "metadata": {},
   "outputs": [
    {
     "name": "stdout",
     "output_type": "stream",
     "text": [
      "Data Tensor: \n",
      "tensor([[1, 2],\n",
      "        [3, 4]]) \n",
      "\n",
      "Ones Tensor: \n",
      "tensor([[1, 1],\n",
      "        [1, 1]]) \n",
      "\n",
      "Random Tensor: \n",
      "tensor([[0.1704, 0.2858],\n",
      "        [0.5805, 0.2223]]) \n",
      "\n"
     ]
    }
   ],
   "source": [
    "data = np.array([[1, 2],[3, 4]])\n",
    "x_data = torch.tensor(data)\n",
    "x_ones = torch.ones_like(x_data)\n",
    "x_rand = torch.rand_like(x_data, dtype=torch.float)\n",
    "\n",
    "print(f\"Data Tensor: \\n{x_data} \\n\")\n",
    "print(f\"Ones Tensor: \\n{x_ones} \\n\")\n",
    "print(f\"Random Tensor: \\n{x_rand} \\n\")"
   ]
  },
  {
   "cell_type": "markdown",
   "id": "0e0dd9af",
   "metadata": {},
   "source": [
    "By default, tensors are allocated on CPU. If desired, they can be moved to the available accelerator using `.to` method."
   ]
  },
  {
   "cell_type": "code",
   "execution_count": 42,
   "id": "43e492f3",
   "metadata": {},
   "outputs": [
    {
     "name": "stdout",
     "output_type": "stream",
     "text": [
      "torch.Size([2, 4])\n",
      "cpu\n",
      "Accelerator is not available\n"
     ]
    }
   ],
   "source": [
    "tensor = torch.zeros((2, 4))\n",
    "print(tensor.shape)\n",
    "print(tensor.device)\n",
    "\n",
    "if torch.accelerator.is_available():\n",
    "    print(\"Accelerator is available\")\n",
    "    tensor = tensor.to(torch.accelerator.current_accelerator())\n",
    "else:\n",
    "    print(\"Accelerator is not available\")"
   ]
  },
  {
   "cell_type": "markdown",
   "id": "bc06cb2f",
   "metadata": {},
   "source": [
    "All usual operators, like indexing and slicing, are available."
   ]
  },
  {
   "cell_type": "code",
   "execution_count": 43,
   "id": "7a307a86",
   "metadata": {},
   "outputs": [
    {
     "name": "stdout",
     "output_type": "stream",
     "text": [
      "tensor([[1., 1., 1.],\n",
      "        [0., 0., 0.],\n",
      "        [1., 1., 1.]])\n",
      "Concatenated tensors shape: torch.Size([4, 3])\n",
      "Stacked tensors shape: torch.Size([2, 2, 3])\n"
     ]
    }
   ],
   "source": [
    "# slicing and indexing\n",
    "tensor = torch.ones(3, 3, 3)\n",
    "tensor[1, 1, :] = 0 # set the middle row of the middle matrix to zeros\n",
    "print(tensor[1, :, :])\n",
    "\n",
    "# concatenate tensors or stack\n",
    "tensor = torch.ones((2, 3))\n",
    "tensor_concat = torch.cat([tensor, tensor], dim = 0)\n",
    "tensor_stack = torch.stack([tensor, tensor], dim = 0)\n",
    "print(f\"Concatenated tensors shape: {tensor_concat.shape}\")\n",
    "print(f\"Stacked tensors shape: {tensor_stack.shape}\")"
   ]
  },
  {
   "cell_type": "markdown",
   "id": "364d45b1",
   "metadata": {},
   "source": [
    "In the same way as for Numpy, we use `*` for element-wise products of tensors and `@` for the matrix-like multiplication."
   ]
  },
  {
   "cell_type": "code",
   "execution_count": 44,
   "id": "6900afe5",
   "metadata": {},
   "outputs": [
    {
     "name": "stdout",
     "output_type": "stream",
     "text": [
      "Matrix multiplication shape: torch.Size([2, 2])\n",
      "Element-wise multiplication shape: torch.Size([2, 3])\n"
     ]
    }
   ],
   "source": [
    "matrix_multiplication = tensor @ tensor.T  # matrix multiplication\n",
    "element_wise_multiplication = tensor * tensor   # element-wise multiplication\n",
    "print(f\"Matrix multiplication shape: {matrix_multiplication.shape}\")\n",
    "print(f\"Element-wise multiplication shape: {element_wise_multiplication.shape}\")"
   ]
  },
  {
   "cell_type": "markdown",
   "id": "0fe353f7",
   "metadata": {},
   "source": [
    "To calculate some aggregated statistics we can use the available methods and use `.item` to convert it to a numerical value. Underscore `_` means that the operand is in-place."
   ]
  },
  {
   "cell_type": "code",
   "execution_count": 45,
   "id": "a0260856",
   "metadata": {},
   "outputs": [
    {
     "name": "stdout",
     "output_type": "stream",
     "text": [
      "Sum: <class 'torch.Tensor'>, Sum item: <class 'float'>\n",
      "Scalar tensor item: 11.0\n"
     ]
    }
   ],
   "source": [
    "sum = tensor.sum()\n",
    "print(f\"Sum: {type(sum)}, Sum item: {type(sum.item())}\")\n",
    "\n",
    "scalar_tensor = torch.ones(1)\n",
    "scalar_tensor.add_(10)\n",
    "print(f\"Scalar tensor item: {scalar_tensor.item()}\")"
   ]
  },
  {
   "cell_type": "markdown",
   "id": "ce447a9a",
   "metadata": {},
   "source": [
    "If `.numpy()` method is used on a tensor, it returns a reference, so changing one will change the other."
   ]
  },
  {
   "cell_type": "code",
   "execution_count": 46,
   "id": "dfe90f36",
   "metadata": {},
   "outputs": [
    {
     "name": "stdout",
     "output_type": "stream",
     "text": [
      "Scalar tensor numpy item: 11.0\n",
      "After in-place addition, scalar tensor item: 0.0\n",
      "After in-place addition, scalar tensor numpy item: 0.0\n"
     ]
    }
   ],
   "source": [
    "scalar_tensor_np = scalar_tensor.numpy()\n",
    "print(f\"Scalar tensor numpy item: {scalar_tensor_np.item()}\")\n",
    "scalar_tensor_np[:] = 0\n",
    "print(f\"After in-place addition, scalar tensor item: {scalar_tensor.item()}\")\n",
    "print(f\"After in-place addition, scalar tensor numpy item: {scalar_tensor_np.item()}\")"
   ]
  },
  {
   "cell_type": "markdown",
   "id": "32ec42ae",
   "metadata": {},
   "source": [
    "## Datasets & dataloaders\n",
    "We ideally want our data loading code to be decoupled from model training code. For that PyTorch provides two interfaces:\n",
    "- `torch.utils.data.Dataset` - stores samples and their corresponding labels. Has to define three core methods: `__init__`, `__len__` and `__get_item__`.\n",
    "- `torch.utils.data.DataLoader` - wraps iterable around the `Dataset`. Usually we want that to pass samples in \"minibatches\" and shuffle data at every epoch. This class abstracts this complexity.\n",
    "\n",
    "To prototype models several datasets are available from PyTorch."
   ]
  },
  {
   "cell_type": "code",
   "execution_count": 47,
   "id": "0885d6c1",
   "metadata": {},
   "outputs": [],
   "source": [
    "from torchvision import datasets\n",
    "from torchvision.transforms import ToTensor\n",
    "import matplotlib.pyplot as plt\n",
    "\n",
    "training_data = datasets.FashionMNIST(\n",
    "    root=\"data\",\n",
    "    train=True,\n",
    "    download=True,\n",
    "    transform=ToTensor()\n",
    ")\n",
    "\n",
    "test_data = datasets.FashionMNIST(\n",
    "    root=\"data\",\n",
    "    train=False,\n",
    "    download=True,\n",
    "    transform=ToTensor()\n",
    ")"
   ]
  },
  {
   "cell_type": "code",
   "execution_count": 48,
   "id": "faaeb3e5",
   "metadata": {},
   "outputs": [
    {
     "name": "stdout",
     "output_type": "stream",
     "text": [
      "Feature batch shape: torch.Size([15, 1, 28, 28])\n",
      "Label batch shape: torch.Size([15])\n"
     ]
    },
    {
     "data": {
      "image/png": "[encoded data removed]",
      "text/plain": [
       "<Figure size 600x400 with 15 Axes>"
      ]
     },
     "metadata": {},
     "output_type": "display_data"
    }
   ],
   "source": [
    "from torch.utils.data import DataLoader\n",
    "\n",
    "subplots_grid = (3, 5)\n",
    "n_elements_in_batch = subplots_grid[0] * subplots_grid[1]\n",
    "\n",
    "train_dataloader = DataLoader(training_data, batch_size=n_elements_in_batch, shuffle=True)\n",
    "train_features, train_labels = next(iter(train_dataloader))\n",
    "\n",
    "print(f\"Feature batch shape: {train_features.size()}\")\n",
    "print(f\"Label batch shape: {train_labels.size()}\")\n",
    "\n",
    "fig, axes = plt.subplots(*subplots_grid, figsize=(6, 4))\n",
    "for batch_idx in range(n_elements_in_batch):\n",
    "    i, j = np.unravel_index(batch_idx, subplots_grid)\n",
    "    axes[i, j].imshow(train_features[batch_idx].squeeze(), cmap=\"gray\")\n",
    "    axes[i, j].set_title(f\"Label: {train_labels[batch_idx]}\")\n",
    "    axes[i, j].axis(\"off\")\n",
    "fig.tight_layout()\n",
    "plt.show()"
   ]
  },
  {
   "cell_type": "markdown",
   "id": "2000d067",
   "metadata": {},
   "source": [
    "## Transforms\n",
    "This allows to perform some manipulation of the data to make it suitable for training. `Dataset` has two parameters:\n",
    "- `transform` to modify features, or input data.\n",
    "- `target_transform` to modify labels.\n",
    "\n",
    "The [torchvision.transforms](https://pytorch.org/vision/stable/transforms.html) offers a variety of helpers out of box.\n",
    "\n",
    "For example, to convert the labels of FashionMNIST dataset to one-hot encoded tensors, one could do the following:"
   ]
  },
  {
   "cell_type": "code",
   "execution_count": 49,
   "id": "0c401249",
   "metadata": {},
   "outputs": [],
   "source": [
    "import torch\n",
    "from torchvision import datasets\n",
    "from torchvision.transforms import ToTensor, Lambda\n",
    "from torch.nn.functional import one_hot\n",
    "\n",
    "ds = datasets.FashionMNIST(\n",
    "    root=\"data\",\n",
    "    train=True,\n",
    "    download=False,\n",
    "    transform=ToTensor(),\n",
    "    target_transform=Lambda(lambda y: one_hot(torch.tensor(y), num_classes=10).float())\n",
    ")"
   ]
  },
  {
   "cell_type": "markdown",
   "id": "fa9c9f02",
   "metadata": {},
   "source": [
    "## Build the neural network\n",
    "First step is to define the neural network architechture. This is done by subclassing `nn.Module` followed by definition and initialization of the neural network layers in `__init__`. Every `nn.Module` subclass implements the opertations on input in `forward` method.\n"
   ]
  },
  {
   "cell_type": "code",
   "execution_count": 50,
   "id": "66203967",
   "metadata": {},
   "outputs": [
    {
     "name": "stdout",
     "output_type": "stream",
     "text": [
      "NeuralNetwork(\n",
      "  (flatten): Flatten(start_dim=1, end_dim=-1)\n",
      "  (linear_relu_stack): Sequential(\n",
      "    (0): Linear(in_features=784, out_features=512, bias=True)\n",
      "    (1): ReLU()\n",
      "    (2): Linear(in_features=512, out_features=512, bias=True)\n",
      "    (3): ReLU()\n",
      "    (4): Linear(in_features=512, out_features=10, bias=True)\n",
      "  )\n",
      ")\n"
     ]
    }
   ],
   "source": [
    "from torch import nn\n",
    "\n",
    "class NeuralNetwork(nn.Module):\n",
    "    def __init__(self):\n",
    "        super().__init__()\n",
    "        self.flatten = nn.Flatten() # converts 2D image to 1D vector\n",
    "        self.linear_relu_stack = nn.Sequential(\n",
    "            nn.Linear(28*28, 512),\n",
    "            nn.ReLU(),\n",
    "            nn.Linear(512, 512),\n",
    "            nn.ReLU(),\n",
    "            nn.Linear(512, 10)\n",
    "        )\n",
    "\n",
    "    def forward(self, x):\n",
    "        x = self.flatten(x)\n",
    "        logits = self.linear_relu_stack(x)\n",
    "        return logits\n",
    "    \n",
    "model = NeuralNetwork()\n",
    "print(model)"
   ]
  },
  {
   "cell_type": "markdown",
   "id": "f3bb08e3",
   "metadata": {},
   "source": [
    "Internally the model consists of:\n",
    "- The flattening layer, that converts a grayscale image to a flattened vector, which length is 28*28=784.\n",
    "- Fully-connected layers:\n",
    "  - the first layer accepts 784 features and outputs 512. Internally, it stores a bias vector `b` of shape `[512]`, and the weight matrix `W` of shape `[512, 784]`. The output of the layer is computed as: `y = W @ x.T + b`, or `y = x @ W.T + b`.\n",
    "  - the output of the first layer is passed through a non-linear activation function (`ReLU`). Non-linear activations allow the NN to capture complex dependencies between inputs and outputs.\n",
    "  - the second layer is a hidden layer that accepts 512 input features and maps them to 512 output features: it stores a bias vector of shape `[512]` and the weight matrix `W` of shape `[512, 512]`.\n",
    "  - the output of the second layer is passed through a non-linear activation function once again.\n",
    "  - The final layer maps 512 input features to 10 raw, unnormalized scores. Its `W` matrix size is `[10, 512]` and bias vector size is 10.\n",
    "\n",
    "To check manually computed weights and biases sizes we can iterate over parameters and print their sizes:"
   ]
  },
  {
   "cell_type": "code",
   "execution_count": 51,
   "id": "e5cd23a7",
   "metadata": {},
   "outputs": [
    {
     "name": "stdout",
     "output_type": "stream",
     "text": [
      "Layer: linear_relu_stack.0.weight | Size: torch.Size([512, 784]) | Values : tensor([[ 0.0063,  0.0163, -0.0114,  ..., -0.0334, -0.0219,  0.0322],\n",
      "        [ 0.0178, -0.0129,  0.0207,  ..., -0.0290, -0.0264,  0.0250]],\n",
      "       grad_fn=<SliceBackward0>) \n",
      "\n",
      "Layer: linear_relu_stack.0.bias | Size: torch.Size([512]) | Values : tensor([-0.0331, -0.0257], grad_fn=<SliceBackward0>) \n",
      "\n",
      "Layer: linear_relu_stack.2.weight | Size: torch.Size([512, 512]) | Values : tensor([[-0.0266,  0.0132,  0.0264,  ..., -0.0158,  0.0086, -0.0355],\n",
      "        [ 0.0155, -0.0433, -0.0386,  ..., -0.0198,  0.0349, -0.0382]],\n",
      "       grad_fn=<SliceBackward0>) \n",
      "\n",
      "Layer: linear_relu_stack.2.bias | Size: torch.Size([512]) | Values : tensor([-0.0146,  0.0129], grad_fn=<SliceBackward0>) \n",
      "\n",
      "Layer: linear_relu_stack.4.weight | Size: torch.Size([10, 512]) | Values : tensor([[-0.0067,  0.0228,  0.0264,  ..., -0.0280,  0.0048,  0.0036],\n",
      "        [-0.0194, -0.0232,  0.0125,  ...,  0.0013,  0.0114,  0.0278]],\n",
      "       grad_fn=<SliceBackward0>) \n",
      "\n",
      "Layer: linear_relu_stack.4.bias | Size: torch.Size([10]) | Values : tensor([0.0219, 0.0210], grad_fn=<SliceBackward0>) \n",
      "\n"
     ]
    }
   ],
   "source": [
    "for name, param in model.named_parameters():\n",
    "    print(f\"Layer: {name} | Size: {param.size()} | Values : {param[:2]} \\n\")"
   ]
  },
  {
   "cell_type": "markdown",
   "id": "b61898e0",
   "metadata": {},
   "source": [
    "Now, if we want to use the model, we feed in our data and get output. The model returns 2-dimensional tensor `[batch_size, num_classes]`:"
   ]
  },
  {
   "cell_type": "code",
   "execution_count": 52,
   "id": "b76992f0",
   "metadata": {},
   "outputs": [
    {
     "name": "stdout",
     "output_type": "stream",
     "text": [
      "tensor([[ 0.0120,  0.0271, -0.0188,  0.0150, -0.0656,  0.0590,  0.1259, -0.0392,\n",
      "         -0.0789,  0.0629]], grad_fn=<AddmmBackward0>)\n"
     ]
    }
   ],
   "source": [
    "X = torch.rand(1, 28, 28)\n",
    "logits = model(X)\n",
    "print(logits)"
   ]
  },
  {
   "cell_type": "markdown",
   "id": "df1be039",
   "metadata": {},
   "source": [
    "Now, if we want convert our raw scores from the last linear layer into probabilities we can use softmax function:\n",
    "$$\n",
    "p = \\frac{e^{z_i}}{\\sum_j{e^{z_j}}}.\n",
    "$$"
   ]
  },
  {
   "cell_type": "code",
   "execution_count": 53,
   "id": "26ffd2af",
   "metadata": {},
   "outputs": [
    {
     "name": "stdout",
     "output_type": "stream",
     "text": [
      "[[0.10002154 0.10154515 0.09699149 0.10033008 0.09255714 0.10484016\n",
      "  0.11208949 0.09503733 0.09133658 0.10525102]]\n",
      "tensor([[0.1000, 0.1015, 0.0970, 0.1003, 0.0926, 0.1048, 0.1121, 0.0950, 0.0913,\n",
      "         0.1053]], grad_fn=<SoftmaxBackward0>)\n",
      "Predicted class: tensor([6])\n"
     ]
    }
   ],
   "source": [
    "logits_np = logits.detach().numpy()\n",
    "exp = np.exp(logits_np - logits_np.max())\n",
    "probs = exp / exp.sum(axis=1, keepdims=True)\n",
    "print(probs)\n",
    "\n",
    "# or simply use nn.Softmax, dimension parameter indicates which dimension softmax would be computed along\n",
    "pred_probab = nn.Softmax(dim=1)(logits)\n",
    "print(pred_probab)\n",
    "\n",
    "y_pred = pred_probab.argmax(1)\n",
    "print(f\"Predicted class: {y_pred}\")"
   ]
  },
  {
   "cell_type": "markdown",
   "id": "80a9b693",
   "metadata": {},
   "source": [
    "## Automatic differentation with `torch.autograd`\n",
    "The training of neural networks is performed using forward and back-propogation.\n",
    "- On a forward pass the inputs are used to calculate the loss function.\n",
    "- On a backward pass the model parameters (weights and biases) are adjusted according to the gradient of the loss function w.r.t. the given parameters.\n",
    "\n",
    "To compute those gradients, PyTorch has a built-in differnetation engine `torch.autograd`.\n",
    "\n",
    "Let's play around with the simplest one-layer NN. Input is `x`, weights are `w` and biases are `b`.\n",
    "\n",
    "**Notes**:\n",
    "- the loss is tied to the NN architechture, so it updates the network parameters in-place after different methods are called on it.\n",
    "- gradients are only available for nodes, which have `required_grad` property set to `True`.\n",
    "- we can only perform gradient calculations once on a graph. If several calls are desired, `retain_graph` flag should be set."
   ]
  },
  {
   "cell_type": "code",
   "execution_count": 54,
   "id": "0c6c7bd4",
   "metadata": {},
   "outputs": [
    {
     "name": "stdout",
     "output_type": "stream",
     "text": [
      "Loss: 2.2008888721466064\n",
      "Gradient w.r.t. weights: tensor([[-0.2073, -0.1949, -0.0758],\n",
      "        [ 0.1192,  0.1120,  0.0435],\n",
      "        [ 0.0007,  0.0006,  0.0002],\n",
      "        [ 0.0992,  0.0932,  0.0362],\n",
      "        [ 0.2001,  0.1881,  0.0731]])\n",
      "Gradient w.r.t. bias: tensor([0.3249, 0.3054, 0.1187])\n"
     ]
    }
   ],
   "source": [
    "import torch\n",
    "\n",
    "x = torch.randn(5)\n",
    "y = torch.zeros(3)\n",
    "\n",
    "w = torch.randn(5, 3, requires_grad=True)\n",
    "b = torch.randn(3, requires_grad=True)\n",
    "z = x @ w + b\n",
    "loss = torch.nn.functional.binary_cross_entropy_with_logits(z, y)\n",
    "print(f\"Loss: {loss}\")\n",
    "\n",
    "# to compute gradients a call to loss.backward() is required\n",
    "loss.backward()\n",
    "print(f\"Gradient w.r.t. weights: {w.grad}\") \n",
    "print(f\"Gradient w.r.t. bias: {b.grad}\")"
   ]
  },
  {
   "cell_type": "markdown",
   "id": "5ac5658c",
   "metadata": {},
   "source": [
    "If we have fully trained network and just want to do inference (forward pass), we usually don't need any gradients computation at all.\n",
    "Switching off gradient functionality can be achieved by doing computations inside `torch.no_grad()` block:"
   ]
  },
  {
   "cell_type": "code",
   "execution_count": 55,
   "id": "d913b6d2",
   "metadata": {},
   "outputs": [
    {
     "name": "stdout",
     "output_type": "stream",
     "text": [
      "True\n",
      "False\n"
     ]
    }
   ],
   "source": [
    "z = torch.matmul(x, w)+b\n",
    "print(z.requires_grad)\n",
    "\n",
    "with torch.no_grad():\n",
    "    z = torch.matmul(x, w)+b\n",
    "print(z.requires_grad)"
   ]
  },
  {
   "cell_type": "markdown",
   "id": "57c2850d",
   "metadata": {},
   "source": [
    "### Directed Acyclic Graphs\n",
    "During computations, autograd keeps all the data and operations in a directed acyclic graph (DAG), where:\n",
    "- the input tensors are leaves;\n",
    "- the output tensors are roots (we call `.backward` on it).\n",
    "\n",
    "*Note*: for forward pass, the inputs are roots, but outputs are leaves.\n",
    "\n",
    "On a forwards pass `autograd`:\n",
    "- runs the operations and computes the resulting tensor;\n",
    "- snapshots the recipe for how to do backward pass (records the graph and required intermediate values).\n",
    "\n",
    "One a backward pass:\n",
    "- computes the gradients from each `.grad_fn`;\n",
    "- accumulates them in the respective tensor's `.grad` attribute;\n",
    "- propagates gradients from loss to all the leaf tensors."
   ]
  },
  {
   "cell_type": "markdown",
   "id": "3db10c02",
   "metadata": {},
   "source": [
    "## Optimizing model parameters\n",
    "Now let's train the model, validate and test it.\n",
    "Training is performed iteratively:\n",
    "- model makes a guess about the output given current weights, biases and inputs;\n",
    "- then it calculates the loss;\n",
    "- propagates this loss back using partial derivatives.\n",
    "\n",
    "The training process can be tuned by setting hyperparameters. They impact the model training and convergence rate. The typical hyperparameters are:\n",
    "- number of epoches: the number of times to iterate over the dataset;\n",
    "- batch size: the number of data samples, propagated through the network before backpropagating;\n",
    "- learning rate - how much to update model parameters at each epoch.\n",
    "\n",
    "Hyperparameters tuning can drastically effect the results. To test multiple of them [**Ray Tune**](https://docs.pytorch.org/tutorials/beginner/hyperparameter_tuning_tutorial.html) can be used. It includes the latest hyperparameter search algorithms and supports distributed training.\n",
    "\n",
    "### Loss function\n",
    "**Loss function** measures the degree of dissimilarity between the value, predicted by the network and the target value.\n",
    "Loss function is the function we want to minimize. The common loss functions are:\n",
    "- Mean Square Error for regression;\n",
    "- Negative Log Likelihood for classification;\n",
    "- Cross Entropy Loss, that combines `nn.LogSoftmax` and `nn.NLLLoss`.\n",
    "\n",
    "### Optimizer\n",
    "An optimizer's goal is to adjust model parameters to minimize the target loss function. There are various optimization algorithms. All the optimization logic is encapsulated in `optimizer` object.\n",
    "\n",
    "#### Optimization loop\n",
    "An epoch is one cycle of the optimization loop. Each epoch consits of two steps:\n",
    "- the train loop - iterate over the training dataset and try to converge to optimal parameters;\n",
    "- the validation loop - iterate over the test dataset to check if model performance is improving.\n",
    "\n",
    "Inside the loop several things happen:\n",
    "- `optimizer.zero_grad()` resets the gradients, because by default they add up;\n",
    "- backpropagation of the prediction loss with a call to `loss.backward()`;\n",
    "- once all gradients are calculated, the call to `optimizer.step()` adjusts the parameters by the gradients collected in the backward pass."
   ]
  },
  {
   "cell_type": "markdown",
   "id": "866761b5",
   "metadata": {},
   "source": [
    "Now it's time to define train and test loops to train the model and evaluate its performance.\n",
    "Let's compare two NN models: the first one is standard, that flattens an image and has three fully-connected layers. The second one uses embeddings and cosine classifiaer to calculate logits."
   ]
  },
  {
   "cell_type": "code",
   "execution_count": 56,
   "id": "d55f5ec0",
   "metadata": {},
   "outputs": [
    {
     "name": "stdout",
     "output_type": "stream",
     "text": [
      "NeuralNetworkCosineHead(\n",
      "  (flatten): Flatten(start_dim=1, end_dim=-1)\n",
      "  (backbone): Sequential(\n",
      "    (0): Linear(in_features=784, out_features=512, bias=True)\n",
      "    (1): ReLU()\n",
      "    (2): Linear(in_features=512, out_features=512, bias=True)\n",
      "    (3): ReLU()\n",
      "  )\n",
      "  (head): Linear(in_features=512, out_features=10, bias=False)\n",
      ")\n",
      "Epoch 1\n",
      "-------------------------------\n",
      "loss: 2.310842  [   64/60000]\n",
      "loss: 1.469005  [ 6464/60000]\n",
      "loss: 0.909483  [12864/60000]\n",
      "loss: 1.001691  [19264/60000]\n",
      "loss: 0.758213  [25664/60000]\n",
      "loss: 0.790737  [32064/60000]\n",
      "loss: 0.749348  [38464/60000]\n",
      "loss: 0.673423  [44864/60000]\n",
      "loss: 0.685838  [51264/60000]\n",
      "loss: 0.668831  [57664/60000]\n",
      "Test Error: \n",
      " Accuracy: 79.4%, Avg loss: 0.625605 \n",
      "\n",
      "Epoch 2\n",
      "-------------------------------\n",
      "loss: 0.531847  [   64/60000]\n",
      "loss: 0.651578  [ 6464/60000]\n",
      "loss: 0.377852  [12864/60000]\n",
      "loss: 0.681120  [19264/60000]\n",
      "loss: 0.555134  [25664/60000]\n",
      "loss: 0.603500  [32064/60000]\n",
      "loss: 0.583237  [38464/60000]\n",
      "loss: 0.578776  [44864/60000]\n",
      "loss: 0.605892  [51264/60000]\n",
      "loss: 0.553525  [57664/60000]\n",
      "Test Error: \n",
      " Accuracy: 82.2%, Avg loss: 0.527449 \n",
      "\n",
      "Epoch 3\n",
      "-------------------------------\n",
      "loss: 0.416649  [   64/60000]\n",
      "loss: 0.544327  [ 6464/60000]\n",
      "loss: 0.313935  [12864/60000]\n",
      "loss: 0.585359  [19264/60000]\n",
      "loss: 0.480906  [25664/60000]\n",
      "loss: 0.538497  [32064/60000]\n",
      "loss: 0.509261  [38464/60000]\n",
      "loss: 0.543764  [44864/60000]\n",
      "loss: 0.566779  [51264/60000]\n",
      "loss: 0.500396  [57664/60000]\n",
      "Test Error: \n",
      " Accuracy: 83.3%, Avg loss: 0.484421 \n",
      "\n",
      "Epoch 4\n",
      "-------------------------------\n",
      "loss: 0.364167  [   64/60000]\n",
      "loss: 0.493786  [ 6464/60000]\n",
      "loss: 0.286376  [12864/60000]\n",
      "loss: 0.526898  [19264/60000]\n",
      "loss: 0.429943  [25664/60000]\n",
      "loss: 0.502305  [32064/60000]\n",
      "loss: 0.461340  [38464/60000]\n",
      "loss: 0.519215  [44864/60000]\n",
      "loss: 0.539848  [51264/60000]\n",
      "loss: 0.467646  [57664/60000]\n",
      "Test Error: \n",
      " Accuracy: 83.9%, Avg loss: 0.458235 \n",
      "\n",
      "Epoch 5\n",
      "-------------------------------\n",
      "loss: 0.328204  [   64/60000]\n",
      "loss: 0.459587  [ 6464/60000]\n",
      "loss: 0.269931  [12864/60000]\n",
      "loss: 0.480626  [19264/60000]\n",
      "loss: 0.392029  [25664/60000]\n",
      "loss: 0.476772  [32064/60000]\n",
      "loss: 0.430706  [38464/60000]\n",
      "loss: 0.500934  [44864/60000]\n",
      "loss: 0.513572  [51264/60000]\n",
      "loss: 0.446072  [57664/60000]\n",
      "Test Error: \n",
      " Accuracy: 84.5%, Avg loss: 0.439630 \n",
      "\n",
      "NeuralNetworkWithEmbeddingsDotProductHead(\n",
      "  (flatten): Flatten(start_dim=1, end_dim=-1)\n",
      "  (backbone): Sequential(\n",
      "    (0): Linear(in_features=784, out_features=512, bias=True)\n",
      "    (1): ReLU()\n",
      "    (2): Linear(in_features=512, out_features=512, bias=True)\n",
      "    (3): ReLU()\n",
      "  )\n",
      "  (proj): Linear(in_features=512, out_features=16, bias=True)\n",
      "  (class_emb): Embedding(10, 16)\n",
      ")\n",
      "Epoch 1\n",
      "-------------------------------\n",
      "loss: 5.076449  [   64/60000]\n",
      "loss: 0.828677  [ 6464/60000]\n",
      "loss: 0.485279  [12864/60000]\n",
      "loss: 0.754989  [19264/60000]\n",
      "loss: 0.662078  [25664/60000]\n",
      "loss: 0.635908  [32064/60000]\n",
      "loss: 0.668154  [38464/60000]\n",
      "loss: 0.616959  [44864/60000]\n",
      "loss: 0.645058  [51264/60000]\n",
      "loss: 0.450713  [57664/60000]\n",
      "Test Error: \n",
      " Accuracy: 75.4%, Avg loss: 0.695899 \n",
      "\n",
      "Epoch 2\n",
      "-------------------------------\n",
      "loss: 0.566858  [   64/60000]\n",
      "loss: 0.488637  [ 6464/60000]\n",
      "loss: 0.312090  [12864/60000]\n",
      "loss: 0.531822  [19264/60000]\n",
      "loss: 0.516915  [25664/60000]\n",
      "loss: 0.536400  [32064/60000]\n",
      "loss: 0.541884  [38464/60000]\n",
      "loss: 0.557266  [44864/60000]\n",
      "loss: 0.562180  [51264/60000]\n",
      "loss: 0.401881  [57664/60000]\n",
      "Test Error: \n",
      " Accuracy: 79.2%, Avg loss: 0.567306 \n",
      "\n",
      "Epoch 3\n",
      "-------------------------------\n",
      "loss: 0.430695  [   64/60000]\n",
      "loss: 0.422626  [ 6464/60000]\n",
      "loss: 0.277761  [12864/60000]\n",
      "loss: 0.467444  [19264/60000]\n",
      "loss: 0.461435  [25664/60000]\n",
      "loss: 0.495174  [32064/60000]\n",
      "loss: 0.488703  [38464/60000]\n",
      "loss: 0.510982  [44864/60000]\n",
      "loss: 0.502928  [51264/60000]\n",
      "loss: 0.376506  [57664/60000]\n",
      "Test Error: \n",
      " Accuracy: 81.3%, Avg loss: 0.506606 \n",
      "\n",
      "Epoch 4\n",
      "-------------------------------\n",
      "loss: 0.357333  [   64/60000]\n",
      "loss: 0.391268  [ 6464/60000]\n",
      "loss: 0.255522  [12864/60000]\n",
      "loss: 0.432053  [19264/60000]\n",
      "loss: 0.414748  [25664/60000]\n",
      "loss: 0.469247  [32064/60000]\n",
      "loss: 0.452161  [38464/60000]\n",
      "loss: 0.478659  [44864/60000]\n",
      "loss: 0.460553  [51264/60000]\n",
      "loss: 0.362731  [57664/60000]\n",
      "Test Error: \n",
      " Accuracy: 83.1%, Avg loss: 0.468808 \n",
      "\n",
      "Epoch 5\n",
      "-------------------------------\n",
      "loss: 0.316708  [   64/60000]\n",
      "loss: 0.368740  [ 6464/60000]\n",
      "loss: 0.240839  [12864/60000]\n",
      "loss: 0.407876  [19264/60000]\n",
      "loss: 0.390261  [25664/60000]\n",
      "loss: 0.451867  [32064/60000]\n",
      "loss: 0.433741  [38464/60000]\n",
      "loss: 0.453199  [44864/60000]\n",
      "loss: 0.435038  [51264/60000]\n",
      "loss: 0.347449  [57664/60000]\n",
      "Test Error: \n",
      " Accuracy: 84.1%, Avg loss: 0.440675 \n",
      "\n"
     ]
    }
   ],
   "source": [
    "def train_loop(dataloader, model, loss_fn, optimizer, batch_size=64):\n",
    "    size = len(dataloader.dataset)\n",
    "    # Set the model to training mode - important for batch normalization and dropout layers\n",
    "    # Unnecessary in this situation but added for best practices\n",
    "    model.train()\n",
    "    for batch, (X, y) in enumerate(dataloader):\n",
    "        # Compute prediction and loss\n",
    "        pred = model(X)\n",
    "        loss = loss_fn(pred, y)\n",
    "\n",
    "        # Backpropagation\n",
    "        loss.backward()\n",
    "        optimizer.step()\n",
    "        optimizer.zero_grad()\n",
    "\n",
    "        if batch % 100 == 0:\n",
    "            loss, current = loss.item(), batch * batch_size + len(X)\n",
    "            print(f\"loss: {loss:>7f}  [{current:>5d}/{size:>5d}]\")\n",
    "\n",
    "def test_loop(dataloader, model, loss_fn):\n",
    "    # Set the model to evaluation mode - important for batch normalization and dropout layers\n",
    "    # Unnecessary in this situation but added for best practices\n",
    "    model.eval()\n",
    "    size = len(dataloader.dataset)\n",
    "    num_batches = len(dataloader)\n",
    "    test_loss, correct = 0, 0\n",
    "\n",
    "    # Evaluating the model with torch.no_grad() ensures that no gradients are computed during test mode\n",
    "    # also serves to reduce unnecessary gradient computations and memory usage for tensors with requires_grad=True\n",
    "    with torch.no_grad():\n",
    "        for X, y in dataloader:\n",
    "            pred = model(X)\n",
    "            test_loss += loss_fn(pred, y).item()\n",
    "            correct += (pred.argmax(1) == y).type(torch.float).sum().item()\n",
    "\n",
    "    test_loss /= num_batches\n",
    "    correct /= size\n",
    "    print(f\"Test Error: \\n Accuracy: {(100*correct):>0.1f}%, Avg loss: {test_loss:>8f} \\n\")\n",
    "\n",
    "import torch.nn.functional as F\n",
    "\n",
    "class NeuralNetworkCosineHead(nn.Module):\n",
    "    def __init__(self, scale=10.0):\n",
    "        super().__init__()\n",
    "        self.flatten = nn.Flatten()\n",
    "        self.backbone = nn.Sequential(\n",
    "            nn.Linear(28*28,512),\n",
    "            nn.ReLU(),\n",
    "            nn.Linear(512,512),\n",
    "            nn.ReLU(),\n",
    "        )\n",
    "        self.head = nn.Linear(512,10, bias=False)\n",
    "        self.scale = scale\n",
    "\n",
    "    def forward(self, x):\n",
    "        x = self.flatten(x)\n",
    "\n",
    "        f = F.normalize(self.backbone(x), dim=-1)\n",
    "        W = F.normalize(self.head.weight, dim=-1)\n",
    "        logits = f @ W.T * 10.0\n",
    "\n",
    "        return logits\n",
    "\n",
    "class NeuralNetworkWithEmbeddingsDotProductHead(nn.Module):\n",
    "    def __init__(self, emb_dim=16, scale=10.0):\n",
    "        super().__init__()\n",
    "        self.flatten = nn.Flatten() # converts 2D image to 1D vector\n",
    "        self.backbone = nn.Sequential(\n",
    "            nn.Linear(28*28, 512),\n",
    "            nn.ReLU(),\n",
    "            nn.Linear(512, 512),\n",
    "            nn.ReLU()\n",
    "        )\n",
    "        self.proj = nn.Linear(512, emb_dim)\n",
    "        self.class_emb = nn.Embedding(10, emb_dim)\n",
    "        self.scale = scale\n",
    "\n",
    "    def forward(self, x):\n",
    "        x = self.flatten(x)\n",
    "        h = self.backbone(x)\n",
    "        f = self.proj(h)\n",
    "\n",
    "        W = self.class_emb.weight\n",
    "        logits = f @ W.T * self.scale \n",
    "\n",
    "        return logits\n",
    "\n",
    "train_dataloader = DataLoader(training_data, batch_size=64)\n",
    "test_dataloader = DataLoader(test_data, batch_size=64)\n",
    "\n",
    "model_classic = NeuralNetworkCosineHead()\n",
    "model_with_embeddings = NeuralNetworkWithEmbeddingsDotProductHead()\n",
    "\n",
    "for model in [model_classic, model_with_embeddings]:\n",
    "    print(model)\n",
    "    loss_fn = nn.CrossEntropyLoss()\n",
    "    optimizer = torch.optim.SGD(model.parameters(), lr=1e-3)\n",
    "\n",
    "    epochs = 5\n",
    "    for t in range(epochs):\n",
    "        print(f\"Epoch {t+1}\\n-------------------------------\")\n",
    "        train_loop(train_dataloader, model, loss_fn, optimizer)\n",
    "        test_loop(test_dataloader, model, loss_fn)\n"
   ]
  },
  {
   "cell_type": "markdown",
   "id": "7cef9aa0",
   "metadata": {},
   "source": [
    "## Save and load the model\n",
    "PyTorch models can be saved and loaded. The learned parameters are stored in an internal state dicitonary, called `state_dict` and can be saved using `torch.save` function."
   ]
  },
  {
   "cell_type": "code",
   "execution_count": 57,
   "id": "fb8f76c1",
   "metadata": {},
   "outputs": [],
   "source": [
    "torch.save(model_with_embeddings.state_dict(), \"model_with_embeddings.pth\")"
   ]
  },
  {
   "cell_type": "markdown",
   "id": "8debd1dc",
   "metadata": {},
   "source": [
    "To load model weights, the instance of the same model needs to be created and then populated with `load_state_dict()` method."
   ]
  },
  {
   "cell_type": "code",
   "execution_count": 58,
   "id": "fe7ec54d",
   "metadata": {},
   "outputs": [
    {
     "data": {
      "text/plain": [
       "NeuralNetworkWithEmbeddingsDotProductHead(\n",
       "  (flatten): Flatten(start_dim=1, end_dim=-1)\n",
       "  (backbone): Sequential(\n",
       "    (0): Linear(in_features=784, out_features=512, bias=True)\n",
       "    (1): ReLU()\n",
       "    (2): Linear(in_features=512, out_features=512, bias=True)\n",
       "    (3): ReLU()\n",
       "  )\n",
       "  (proj): Linear(in_features=512, out_features=16, bias=True)\n",
       "  (class_emb): Embedding(10, 16)\n",
       ")"
      ]
     },
     "execution_count": 58,
     "metadata": {},
     "output_type": "execute_result"
    }
   ],
   "source": [
    "model_copy = NeuralNetworkWithEmbeddingsDotProductHead()\n",
    "model_copy.load_state_dict(torch.load(\"model_with_embeddings.pth\", weights_only=False))\n",
    "model_copy.eval()"
   ]
  },
  {
   "cell_type": "markdown",
   "id": "6252d4c0",
   "metadata": {},
   "source": [
    "If we want to save the whole model, with its structure, we need to call `save` on the object instance."
   ]
  }
 ],
 "metadata": {
  "kernelspec": {
   "display_name": "learning-ai-cuda",
   "language": "python",
   "name": "python3"
  },
  "language_info": {
   "codemirror_mode": {
    "name": "ipython",
    "version": 3
   },
   "file_extension": ".py",
   "mimetype": "text/x-python",
   "name": "python",
   "nbconvert_exporter": "python",
   "pygments_lexer": "ipython3",
   "version": "3.12.3"
  }
 },
 "nbformat": 4,
 "nbformat_minor": 5
}
