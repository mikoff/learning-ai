{
 "cells": [
  {
   "cell_type": "markdown",
   "id": "9b7b2942",
   "metadata": {},
   "source": [
    "# Learn the basics\n",
    "My study notes and extracts while going through *PyTorch: Learn the Basics* [tutorial](https://docs.pytorch.org/tutorials/beginner/basics/intro.html)."
   ]
  },
  {
   "cell_type": "markdown",
   "id": "5b936397",
   "metadata": {},
   "source": [
    "## Tensors\n",
    "- can share the same memory with Numpy arrays;\n",
    "- optimized for automaitic differentation;\n",
    "- a multi-dimensional array  with rank >= (0 - scalars, 1 - vectors, 2 - matrices). Don't confuse this with *matrix rank* in linear algebra."
   ]
  },
  {
   "cell_type": "code",
   "execution_count": 1,
   "id": "253c1d0d",
   "metadata": {},
   "outputs": [],
   "source": [
    "import torch\n",
    "import numpy as np"
   ]
  },
  {
   "cell_type": "code",
   "execution_count": 2,
   "id": "2ea0092f",
   "metadata": {},
   "outputs": [
    {
     "name": "stdout",
     "output_type": "stream",
     "text": [
      "Data Tensor: \n",
      "tensor([[1, 2],\n",
      "        [3, 4]]) \n",
      "\n",
      "Ones Tensor: \n",
      "tensor([[1, 1],\n",
      "        [1, 1]]) \n",
      "\n",
      "Random Tensor: \n",
      "tensor([[0.6033, 0.0034],\n",
      "        [0.5872, 0.2853]]) \n",
      "\n"
     ]
    }
   ],
   "source": [
    "data = np.array([[1, 2],[3, 4]])\n",
    "x_data = torch.tensor(data)\n",
    "x_ones = torch.ones_like(x_data)\n",
    "x_rand = torch.rand_like(x_data, dtype=torch.float)\n",
    "\n",
    "print(f\"Data Tensor: \\n{x_data} \\n\")\n",
    "print(f\"Ones Tensor: \\n{x_ones} \\n\")\n",
    "print(f\"Random Tensor: \\n{x_rand} \\n\")"
   ]
  },
  {
   "cell_type": "markdown",
   "id": "0e0dd9af",
   "metadata": {},
   "source": [
    "By default, tensors are allocated on CPU. If desired, they can be moved to the available accelerator using `.to` method."
   ]
  },
  {
   "cell_type": "code",
   "execution_count": 6,
   "id": "43e492f3",
   "metadata": {},
   "outputs": [
    {
     "name": "stdout",
     "output_type": "stream",
     "text": [
      "torch.Size([2, 4])\n",
      "cpu\n",
      "Accelerator is not available\n"
     ]
    }
   ],
   "source": [
    "tensor = torch.zeros((2, 4))\n",
    "print(tensor.shape)\n",
    "print(tensor.device)\n",
    "\n",
    "if torch.accelerator.is_available():\n",
    "    print(\"Accelerator is available\")\n",
    "    tensor = tensor.to(torch.accelerator.current_accelerator())\n",
    "else:\n",
    "    print(\"Accelerator is not available\")"
   ]
  },
  {
   "cell_type": "markdown",
   "id": "bc06cb2f",
   "metadata": {},
   "source": [
    "All usual operators, like indexing and slicing, are available."
   ]
  },
  {
   "cell_type": "code",
   "execution_count": 34,
   "id": "7a307a86",
   "metadata": {},
   "outputs": [
    {
     "name": "stdout",
     "output_type": "stream",
     "text": [
      "tensor([[1., 1., 1.],\n",
      "        [0., 0., 0.],\n",
      "        [1., 1., 1.]])\n",
      "Concatenated tensors shape: torch.Size([4, 3])\n",
      "Stacked tensors shape: torch.Size([2, 2, 3])\n"
     ]
    }
   ],
   "source": [
    "# slicing and indexing\n",
    "tensor = torch.ones(3, 3, 3)\n",
    "tensor[1, 1, :] = 0 # set the middle row of the middle matrix to zeros\n",
    "print(tensor[1, :, :])\n",
    "\n",
    "# concatenate tensors or stack\n",
    "tensor = torch.ones((2, 3))\n",
    "tensor_concat = torch.cat([tensor, tensor], dim = 0)\n",
    "tensor_stack = torch.stack([tensor, tensor], dim = 0)\n",
    "print(f\"Concatenated tensors shape: {tensor_concat.shape}\")\n",
    "print(f\"Stacked tensors shape: {tensor_stack.shape}\")"
   ]
  },
  {
   "cell_type": "markdown",
   "id": "364d45b1",
   "metadata": {},
   "source": [
    "In the same way as for Numpy, we use `*` for element-wise products of tensors and `@` for the matrix-like multiplication."
   ]
  },
  {
   "cell_type": "code",
   "execution_count": 36,
   "id": "6900afe5",
   "metadata": {},
   "outputs": [
    {
     "name": "stdout",
     "output_type": "stream",
     "text": [
      "Matrix multiplication shape: torch.Size([2, 2])\n",
      "Element-wise multiplication shape: torch.Size([2, 3])\n"
     ]
    }
   ],
   "source": [
    "matrix_multiplication = tensor @ tensor.T  # matrix multiplication\n",
    "element_wise_multiplication = tensor * tensor   # element-wise multiplication\n",
    "print(f\"Matrix multiplication shape: {matrix_multiplication.shape}\")\n",
    "print(f\"Element-wise multiplication shape: {element_wise_multiplication.shape}\")"
   ]
  },
  {
   "cell_type": "markdown",
   "id": "0fe353f7",
   "metadata": {},
   "source": [
    "To calculate some aggregated statistics we can use the available methods and use `.item` to convert it to a numerical value. Underscore `_` means that the operand is in-place."
   ]
  },
  {
   "cell_type": "code",
   "execution_count": 62,
   "id": "a0260856",
   "metadata": {},
   "outputs": [
    {
     "name": "stdout",
     "output_type": "stream",
     "text": [
      "Sum: <class 'torch.Tensor'>, Sum item: <class 'float'>\n",
      "Scalar tensor item: 11.0\n"
     ]
    }
   ],
   "source": [
    "sum = tensor.sum()\n",
    "print(f\"Sum: {type(sum)}, Sum item: {type(sum.item())}\")\n",
    "\n",
    "scalar_tensor = torch.ones(1)\n",
    "scalar_tensor.add_(10)\n",
    "print(f\"Scalar tensor item: {scalar_tensor.item()}\")"
   ]
  },
  {
   "cell_type": "markdown",
   "id": "ce447a9a",
   "metadata": {},
   "source": [
    "If `.numpy()` method is used on a tensor, it returns a reference, so changing one will change the other."
   ]
  },
  {
   "cell_type": "code",
   "execution_count": 67,
   "id": "dfe90f36",
   "metadata": {},
   "outputs": [
    {
     "name": "stdout",
     "output_type": "stream",
     "text": [
      "Scalar tensor numpy item: 26.0\n",
      "After in-place addition, scalar tensor item: 0.0\n",
      "After in-place addition, scalar tensor numpy item: 0.0\n"
     ]
    }
   ],
   "source": [
    "scalar_tensor_np = scalar_tensor.numpy()\n",
    "print(f\"Scalar tensor numpy item: {scalar_tensor_np.item()}\")\n",
    "scalar_tensor_np[:] = 0\n",
    "print(f\"After in-place addition, scalar tensor item: {scalar_tensor.item()}\")\n",
    "print(f\"After in-place addition, scalar tensor numpy item: {scalar_tensor_np.item()}\")"
   ]
  },
  {
   "cell_type": "markdown",
   "id": "32ec42ae",
   "metadata": {},
   "source": [
    "## Datasets & dataloaders\n",
    "We ideally want our data loading code to be decoupled from model training code. For that PyTorch provides two interfaces:\n",
    "- `torch.utils.data.Dataset` - stores samples and their corresponding labels. Has to define three core methods: `__init__`, `__len__` and `__get_item__`.\n",
    "- `torch.utils.data.DataLoader` - wraps iterable around the `Dataset`. Usually we want that to pass samples in \"minibatches\" and shuffle data at every epoch. This class abstracts this complexity.\n",
    "\n",
    "To prototype models several datasets are available from PyTorch."
   ]
  },
  {
   "cell_type": "code",
   "execution_count": 84,
   "id": "0885d6c1",
   "metadata": {},
   "outputs": [],
   "source": [
    "from torchvision import datasets\n",
    "from torchvision.transforms import ToTensor\n",
    "import matplotlib.pyplot as plt\n",
    "\n",
    "training_data = datasets.FashionMNIST(\n",
    "    root=\"data\",\n",
    "    train=True,\n",
    "    download=True,\n",
    "    transform=ToTensor()\n",
    ")\n",
    "\n",
    "test_data = datasets.FashionMNIST(\n",
    "    root=\"data\",\n",
    "    train=False,\n",
    "    download=True,\n",
    "    transform=ToTensor()\n",
    ")"
   ]
  },
  {
   "cell_type": "code",
   "execution_count": 99,
   "id": "faaeb3e5",
   "metadata": {},
   "outputs": [
    {
     "name": "stdout",
     "output_type": "stream",
     "text": [
      "Feature batch shape: torch.Size([15, 1, 28, 28])\n",
      "Label batch shape: torch.Size([15])\n"
     ]
    },
    {
     "data": {
      "image/png": "[encoded data removed]",
      "text/plain": [
       "<Figure size 600x400 with 15 Axes>"
      ]
     },
     "metadata": {},
     "output_type": "display_data"
    }
   ],
   "source": [
    "from torch.utils.data import DataLoader\n",
    "\n",
    "subplots_grid = (3, 5)\n",
    "n_elements_in_batch = subplots_grid[0] * subplots_grid[1]\n",
    "\n",
    "train_dataloader = DataLoader(training_data, batch_size=n_elements_in_batch, shuffle=True)\n",
    "train_features, train_labels = next(iter(train_dataloader))\n",
    "\n",
    "print(f\"Feature batch shape: {train_features.size()}\")\n",
    "print(f\"Label batch shape: {train_labels.size()}\")\n",
    "\n",
    "fig, axes = plt.subplots(*subplots_grid, figsize=(6, 4))\n",
    "for batch_idx in range(n_elements_in_batch):\n",
    "    i, j = np.unravel_index(batch_idx, subplots_grid)\n",
    "    axes[i, j].imshow(train_features[batch_idx].squeeze(), cmap=\"gray\")\n",
    "    axes[i, j].set_title(f\"Label: {train_labels[batch_idx]}\")\n",
    "    axes[i, j].axis(\"off\")\n",
    "fig.tight_layout()\n",
    "plt.show()"
   ]
  },
  {
   "cell_type": "markdown",
   "id": "2000d067",
   "metadata": {},
   "source": [
    "## Transforms\n",
    "This allows to perform some manipulation of the data to make it suitable for training. `Dataset` has two parameters:\n",
    "- `transform` to modify features, or input data.\n",
    "- `target_transform` to modify labels.\n",
    "\n",
    "The [torchvision.transforms](https://pytorch.org/vision/stable/transforms.html) offers a variety of helpers out of box.\n",
    "\n",
    "For example, to convert the labels of FashionMNIST dataset to one-hot encoded tensors, one could do the following:"
   ]
  },
  {
   "cell_type": "code",
   "execution_count": 122,
   "id": "0c401249",
   "metadata": {},
   "outputs": [],
   "source": [
    "import torch\n",
    "from torchvision import datasets\n",
    "from torchvision.transforms import ToTensor, Lambda\n",
    "from torch.nn.functional import one_hot\n",
    "\n",
    "ds = datasets.FashionMNIST(\n",
    "    root=\"data\",\n",
    "    train=True,\n",
    "    download=False,\n",
    "    transform=ToTensor(),\n",
    "    target_transform=Lambda(lambda y: one_hot(torch.tensor(y), num_classes=10).float())\n",
    ")"
   ]
  },
  {
   "cell_type": "markdown",
   "id": "fa9c9f02",
   "metadata": {},
   "source": [
    "## Build the neural network\n",
    "First step is to define the neural network architechture. This is done by subclassing `nn.Module` followed by definition and initialization of the neural network layers in `__init__`. Every `nn.Module` subclass implements the opertations on input in `forward` method.\n"
   ]
  },
  {
   "cell_type": "code",
   "execution_count": null,
   "id": "66203967",
   "metadata": {},
   "outputs": [
    {
     "name": "stdout",
     "output_type": "stream",
     "text": [
      "NeuralNetwork(\n",
      "  (flatten): Flatten(start_dim=1, end_dim=-1)\n",
      "  (linear_relu_stack): Sequential(\n",
      "    (0): Linear(in_features=784, out_features=512, bias=True)\n",
      "    (1): ReLU()\n",
      "    (2): Linear(in_features=512, out_features=512, bias=True)\n",
      "    (3): ReLU()\n",
      "    (4): Linear(in_features=512, out_features=10, bias=True)\n",
      "  )\n",
      ")\n"
     ]
    }
   ],
   "source": [
    "from torch import nn\n",
    "\n",
    "class NeuralNetwork(nn.Module):\n",
    "    def __init__(self):\n",
    "        super().__init__()\n",
    "        self.flatten = nn.Flatten() # converts 2D image to 1D vector\n",
    "        self.linear_relu_stack = nn.Sequential(\n",
    "            nn.Linear(28*28, 512),\n",
    "            nn.ReLU(),\n",
    "            nn.Linear(512, 512),\n",
    "            nn.ReLU(),\n",
    "            nn.Linear(512, 10)\n",
    "        )\n",
    "\n",
    "    def forward(self, x):\n",
    "        x = self.flatten(x)\n",
    "        logits = self.linear_relu_stack(x)\n",
    "        return logits\n",
    "    \n",
    "model = NeuralNetwork()\n",
    "print(model)"
   ]
  },
  {
   "cell_type": "markdown",
   "id": "f3bb08e3",
   "metadata": {},
   "source": [
    "Internally the model consists of:\n",
    "- The flattening layer, that converts a grayscale image to a flattened vector, which length is 28*28=784.\n",
    "- Fully-connected layers:\n",
    "  - the first layer accepts 784 features and outputs 512. Internally, it stores a bias vector `b` of shape `[512]`, and the weight matrix `W` of shape `[512, 784]`. The output of the layer is computed as: `y = W @ x + b`, or `y = x @ W.T + b`.\n",
    "  - the output of the first layer is passed through a non-linear activation function (`ReLU`). Non-linear activations allow the NN to capture complex dependencies between inputs and outputs.\n",
    "  - the second layer is a hidden layer that accepts 512 input features and maps them to 512 output features: it stores a bias vector of shape `[512]` and the weight matrix `W` of shape `[512, 512]`.\n",
    "  - the output of the second layer is passed through a non-linear activation function once again.\n",
    "  - The final layer maps 512 input features to 10 raw, unnormalized scores. Its `W` matrix size is `[10, 512]` and bias vector size is 10.\n",
    "\n",
    "To check manually computed weights and biases sizes we can iterate over parameters and print their sizes:"
   ]
  },
  {
   "cell_type": "code",
   "execution_count": 160,
   "id": "e5cd23a7",
   "metadata": {},
   "outputs": [
    {
     "name": "stdout",
     "output_type": "stream",
     "text": [
      "Layer: linear_relu_stack.0.weight | Size: torch.Size([512, 784]) | Values : tensor([[-0.0280,  0.0346, -0.0355,  ..., -0.0093, -0.0026, -0.0119],\n",
      "        [ 0.0295, -0.0124,  0.0290,  ..., -0.0299, -0.0191,  0.0117]],\n",
      "       grad_fn=<SliceBackward0>) \n",
      "\n",
      "Layer: linear_relu_stack.0.bias | Size: torch.Size([512]) | Values : tensor([ 0.0207, -0.0264], grad_fn=<SliceBackward0>) \n",
      "\n",
      "Layer: linear_relu_stack.2.weight | Size: torch.Size([512, 512]) | Values : tensor([[-0.0036,  0.0323,  0.0086,  ..., -0.0347,  0.0087, -0.0358],\n",
      "        [ 0.0286,  0.0102, -0.0166,  ..., -0.0317,  0.0012, -0.0410]],\n",
      "       grad_fn=<SliceBackward0>) \n",
      "\n",
      "Layer: linear_relu_stack.2.bias | Size: torch.Size([512]) | Values : tensor([0.0326, 0.0352], grad_fn=<SliceBackward0>) \n",
      "\n",
      "Layer: linear_relu_stack.4.weight | Size: torch.Size([10, 512]) | Values : tensor([[ 0.0021,  0.0229,  0.0386,  ..., -0.0394, -0.0255, -0.0167],\n",
      "        [-0.0317, -0.0341,  0.0259,  ..., -0.0404, -0.0088, -0.0294]],\n",
      "       grad_fn=<SliceBackward0>) \n",
      "\n",
      "Layer: linear_relu_stack.4.bias | Size: torch.Size([10]) | Values : tensor([-0.0047,  0.0045], grad_fn=<SliceBackward0>) \n",
      "\n"
     ]
    }
   ],
   "source": [
    "for name, param in model.named_parameters():\n",
    "    print(f\"Layer: {name} | Size: {param.size()} | Values : {param[:2]} \\n\")"
   ]
  },
  {
   "cell_type": "markdown",
   "id": "b61898e0",
   "metadata": {},
   "source": [
    "Now, if we want to use the model, we feed in our data and get output. The model returns 2-dimensional tensor `[batch_size, num_classes]`:"
   ]
  },
  {
   "cell_type": "code",
   "execution_count": 156,
   "id": "b76992f0",
   "metadata": {},
   "outputs": [
    {
     "name": "stdout",
     "output_type": "stream",
     "text": [
      "tensor([[-0.0140, -0.0279, -0.0924, -0.0236,  0.0078,  0.0007, -0.1178, -0.0252,\n",
      "          0.0177,  0.0578]], grad_fn=<AddmmBackward0>)\n"
     ]
    }
   ],
   "source": [
    "X = torch.rand(1, 28, 28)\n",
    "logits = model(X)\n",
    "print(logits)"
   ]
  },
  {
   "cell_type": "markdown",
   "id": "df1be039",
   "metadata": {},
   "source": [
    "Now, if we want convert our raw scores from the last linear layer into probabilities we can use softmax function:\n",
    "$$\n",
    "p = \\frac{e^{z_i}}{\\sum_j{e^{z_j}}}.\n",
    "$$"
   ]
  },
  {
   "cell_type": "code",
   "execution_count": 161,
   "id": "26ffd2af",
   "metadata": {},
   "outputs": [
    {
     "name": "stdout",
     "output_type": "stream",
     "text": [
      "[[0.10065281 0.09926219 0.09306717 0.09969839 0.10286921 0.10214478\n",
      "  0.09072939 0.09953106 0.10389863 0.10814633]]\n",
      "tensor([[0.1007, 0.0993, 0.0931, 0.0997, 0.1029, 0.1021, 0.0907, 0.0995, 0.1039,\n",
      "         0.1081]], grad_fn=<SoftmaxBackward0>)\n",
      "Predicted class: tensor([9])\n"
     ]
    }
   ],
   "source": [
    "logits_np = logits.detach().numpy()\n",
    "exp = np.exp(logits_np - logits_np.max())\n",
    "probs = exp / exp.sum(axis=1, keepdims=True)\n",
    "print(probs)\n",
    "\n",
    "# or simply use nn.Softmax, dimension parameter indicates which dimension softmax would be computed along\n",
    "pred_probab = nn.Softmax(dim=1)(logits)\n",
    "print(pred_probab)\n",
    "\n",
    "y_pred = pred_probab.argmax(1)\n",
    "print(f\"Predicted class: {y_pred}\")"
   ]
  },
  {
   "cell_type": "markdown",
   "id": "80a9b693",
   "metadata": {},
   "source": [
    "## Automatic differentation with `torch.autograd`"
   ]
  }
 ],
 "metadata": {
  "kernelspec": {
   "display_name": "learning-ai-cuda",
   "language": "python",
   "name": "python3"
  },
  "language_info": {
   "codemirror_mode": {
    "name": "ipython",
    "version": 3
   },
   "file_extension": ".py",
   "mimetype": "text/x-python",
   "name": "python",
   "nbconvert_exporter": "python",
   "pygments_lexer": "ipython3",
   "version": "3.12.3"
  }
 },
 "nbformat": 4,
 "nbformat_minor": 5
}
