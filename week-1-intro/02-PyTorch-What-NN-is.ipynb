{
 "cells": [
  {
   "cell_type": "markdown",
   "id": "235cac0d",
   "metadata": {},
   "source": [
    "# What is `torch.nn` really?\n",
    "\n",
    "Some notes while following [PyTorch tutorial](https://docs.pytorch.org/tutorials/beginner/nn_tutorial.html)."
   ]
  },
  {
   "cell_type": "markdown",
   "id": "c214b3aa",
   "metadata": {},
   "source": [
    "## Data loading\n",
    "Since the dataset is available from `torchvision`, we can directly download it and then wrap into into `DataLoader`, that takes care of minibatching and shuffling the samples."
   ]
  },
  {
   "cell_type": "code",
   "execution_count": 1,
   "id": "55d2dfad",
   "metadata": {},
   "outputs": [],
   "source": [
    "from torchvision import datasets\n",
    "from torchvision.transforms import ToTensor\n",
    "\n",
    "training_data = datasets.MNIST(\n",
    "    root=\"data\",\n",
    "    train=True,\n",
    "    download=True,\n",
    "    transform=ToTensor()\n",
    ")\n",
    "\n",
    "validation_data = datasets.MNIST(\n",
    "    root=\"data\",\n",
    "    train=False,\n",
    "    download=True,\n",
    "    transform=ToTensor()\n",
    ")"
   ]
  },
  {
   "cell_type": "code",
   "execution_count": 2,
   "id": "3a4b1825",
   "metadata": {},
   "outputs": [
    {
     "name": "stdout",
     "output_type": "stream",
     "text": [
      "Feature batch shape: torch.Size([15, 1, 28, 28])\n",
      "Label batch shape: torch.Size([15])\n"
     ]
    },
    {
     "data": {
      "image/png": "[encoded data removed]",
      "text/plain": [
       "<Figure size 600x400 with 15 Axes>"
      ]
     },
     "metadata": {},
     "output_type": "display_data"
    }
   ],
   "source": [
    "import matplotlib.pylab as plt\n",
    "from torch.utils.data import DataLoader\n",
    "import numpy as np\n",
    "\n",
    "subplots_grid = (3, 5)\n",
    "n_elements_in_batch = subplots_grid[0] * subplots_grid[1]\n",
    "\n",
    "train_dataloader = DataLoader(training_data, batch_size=n_elements_in_batch, shuffle=True)\n",
    "train_features, train_labels = next(iter(train_dataloader))\n",
    "\n",
    "print(f\"Feature batch shape: {train_features.size()}\")\n",
    "print(f\"Label batch shape: {train_labels.size()}\")\n",
    "\n",
    "fig, axes = plt.subplots(*subplots_grid, figsize=(6, 4))\n",
    "for batch_idx in range(n_elements_in_batch):\n",
    "    i, j = np.unravel_index(batch_idx, subplots_grid)\n",
    "    axes[i, j].imshow(train_features[batch_idx].squeeze(), cmap=\"gray\")\n",
    "    axes[i, j].set_title(f\"Label: {train_labels[batch_idx]}\")\n",
    "    axes[i, j].axis(\"off\")\n",
    "fig.tight_layout()\n",
    "plt.show()"
   ]
  },
  {
   "cell_type": "markdown",
   "id": "01dd7e38",
   "metadata": {},
   "source": [
    "## Neural network from scratch\n",
    "\n",
    "In this section we are gonna use raw tensors to create weights and biases for a simple linear model. Those tensors are regular multi-dimensional linear objects with one addition: PyTorch knows that they require a gradient, so PyTorch records all of the operations on the tensor so it can calculate the gradient later.\n",
    "\n",
    "The weights are initialized using Xavier initialization ($\\frac{1}{\\sqrt{n}}$)."
   ]
  },
  {
   "cell_type": "code",
   "execution_count": 3,
   "id": "a555f085",
   "metadata": {},
   "outputs": [
    {
     "name": "stdout",
     "output_type": "stream",
     "text": [
      "tensor([-2.4415, -1.9916, -2.6939, -3.1501, -1.8107, -2.1830, -2.4445, -2.0663,\n",
      "        -2.4667, -2.3915], grad_fn=<SelectBackward0>) torch.Size([64, 10])\n"
     ]
    }
   ],
   "source": [
    "import torch \n",
    "\n",
    "def log_softmax(x):\n",
    "    return x - x.exp().sum(-1).log().unsqueeze(-1)\n",
    "\n",
    "def model(x, weights, bias):\n",
    "    x = x.view(x.size(0), -1)  # flatten\n",
    "    return log_softmax(x @ weights + bias)\n",
    "\n",
    "dataloader = DataLoader(training_data, batch_size=64, shuffle=True)\n",
    "# if we set requires_grad_ to True, PyTorch will track all operations on the tensor\n",
    "# and the normalization operation will count, so backward() will fail if we perform something else on the weights\n",
    "weights = torch.randn(784, 10) / np.sqrt(784)\n",
    "weights.requires_grad_()\n",
    "bias = torch.zeros(10, requires_grad=True)\n",
    "\n",
    "samples, labels = next(iter(dataloader))\n",
    "preds = model(samples, weights, bias)\n",
    "\n",
    "print(preds[0], preds.shape)"
   ]
  },
  {
   "cell_type": "markdown",
   "id": "5a79ecd5",
   "metadata": {},
   "source": [
    "**Note**: predictions contain not only the tensor values, but also a gradient function. Later it is used for back-propagation.\n",
    "\n",
    "The negative log-likelihood can be used as a loss function:"
   ]
  },
  {
   "cell_type": "code",
   "execution_count": 4,
   "id": "57b0221f",
   "metadata": {},
   "outputs": [
    {
     "name": "stdout",
     "output_type": "stream",
     "text": [
      "tensor(2.5001, grad_fn=<NegBackward0>)\n"
     ]
    }
   ],
   "source": [
    "def nll(input, target):\n",
    "    return -input[range(target.shape[0]), target].mean()\n",
    "\n",
    "loss = nll(preds, labels)\n",
    "print(loss)"
   ]
  },
  {
   "cell_type": "markdown",
   "id": "159a3daf",
   "metadata": {},
   "source": [
    "Once again, loss function returned the tensor with its gradient.\n",
    "\n",
    "Now it is time to implement a function that assess the accuracy of hte model. One of the ways this can be implemented is if the largest value among prediction vectors matches the true label:"
   ]
  },
  {
   "cell_type": "code",
   "execution_count": 5,
   "id": "42b0387a",
   "metadata": {},
   "outputs": [
    {
     "name": "stdout",
     "output_type": "stream",
     "text": [
      "tensor(0.0469)\n"
     ]
    }
   ],
   "source": [
    "def accuracy(output, labels):\n",
    "    best_predictions = output.argmax(dim=1)\n",
    "    return (best_predictions == labels).float().mean()\n",
    "\n",
    "# check the prediction accuracy of the model\n",
    "test_dataloader = DataLoader(validation_data, batch_size=64, shuffle=True)\n",
    "test_samples, test_labels = next(iter(test_dataloader))\n",
    "preds = model(test_samples, weights, bias)\n",
    "print(accuracy(preds, test_labels))"
   ]
  },
  {
   "cell_type": "markdown",
   "id": "0e30f1d6",
   "metadata": {},
   "source": [
    "The prediction accuracy is too low to say that our NN is able to predict something."
   ]
  },
  {
   "cell_type": "markdown",
   "id": "fe1ded19",
   "metadata": {},
   "source": [
    "Now we can run a simple training loop:\n",
    "- sample a mini-batch and labels;\n",
    "- use the model to make predictions;\n",
    "- calculate the loss;\n",
    "- use the loss to update the gradients of the model."
   ]
  },
  {
   "cell_type": "code",
   "execution_count": 6,
   "id": "c9ec95ae",
   "metadata": {},
   "outputs": [
    {
     "name": "stdout",
     "output_type": "stream",
     "text": [
      "0\n",
      "1\n",
      "2\n",
      "3\n",
      "4\n",
      "5\n",
      "6\n",
      "7\n",
      "8\n",
      "9\n"
     ]
    }
   ],
   "source": [
    "learning_rate = 0.1\n",
    "epochs = 10\n",
    "\n",
    "dataloader = DataLoader(training_data, batch_size=64, shuffle=True)\n",
    "dataiter = iter(dataloader)\n",
    "\n",
    "for epoch in range(epochs):\n",
    "    batch, labels = next(dataiter)\n",
    "\n",
    "    preds = model(batch, weights, bias)\n",
    "    loss = nll(preds, labels)\n",
    "\n",
    "    # calculate the gradients\n",
    "    print(epoch)\n",
    "    loss.backward()\n",
    "    # if we don't do this, the gradients operationts will be recorded for our next calculation of the gradient\n",
    "    with torch.no_grad():\n",
    "        weights -= weights.grad * learning_rate\n",
    "        bias -= bias.grad * learning_rate\n",
    "        # zero the gradients after updating\n",
    "        weights.grad.zero_()\n",
    "        bias.grad.zero_()"
   ]
  },
  {
   "cell_type": "markdown",
   "id": "66d253dc",
   "metadata": {},
   "source": [
    "Now let's check the accuracy:"
   ]
  },
  {
   "cell_type": "code",
   "execution_count": 7,
   "id": "ccdff169",
   "metadata": {},
   "outputs": [
    {
     "name": "stdout",
     "output_type": "stream",
     "text": [
      "tensor(0.6719)\n"
     ]
    }
   ],
   "source": [
    "# check the prediction accuracy of the model\n",
    "test_dataloader = DataLoader(validation_data, batch_size=64, shuffle=True)\n",
    "test_samples, test_labels = next(iter(test_dataloader))\n",
    "preds = model(test_samples, weights, bias)\n",
    "print(accuracy(preds, test_labels))"
   ]
  },
  {
   "cell_type": "markdown",
   "id": "127505c5",
   "metadata": {},
   "source": [
    "Works fine! We achieved 60% accuracy on average."
   ]
  },
  {
   "cell_type": "markdown",
   "id": "54015b56",
   "metadata": {},
   "source": [
    "## Using `torch.nn.functional`\n",
    "Now the code will be refactored, so it does the same as before, but using PyTorch `nn` classes to make it more concise and flexible.\n",
    "\n",
    "To define NN architechture we subclass `nn.Module` (able to keep track of state)."
   ]
  },
  {
   "cell_type": "code",
   "execution_count": 8,
   "id": "14de5d20",
   "metadata": {},
   "outputs": [],
   "source": [
    "from torch import nn\n",
    "from torch.nn import functional as F\n",
    "\n",
    "class MnistLogistic(nn.Module):\n",
    "    def __init__(self):\n",
    "        super().__init__()\n",
    "        self.weights = nn.Parameter(torch.randn(784, 10) / np.sqrt(784))\n",
    "        self.bias = nn.Parameter(torch.zeros(10))\n",
    "\n",
    "    def forward(self, x):\n",
    "        x = x.view(x.size(0), -1)  # flatten\n",
    "        return x @ self.weights + self.bias"
   ]
  },
  {
   "cell_type": "markdown",
   "id": "dec5542c",
   "metadata": {},
   "source": [
    "Previously in the training loop there was some work that had to be done manually: parameters updates and gradients resets. Now `model.parameters()` and `model_zero.grad()` take care of that:"
   ]
  },
  {
   "cell_type": "code",
   "execution_count": 9,
   "id": "491bff79",
   "metadata": {},
   "outputs": [
    {
     "name": "stdout",
     "output_type": "stream",
     "text": [
      "tensor(0.6719)\n"
     ]
    }
   ],
   "source": [
    "def train(model, epochs, learning_rate):\n",
    "    dataiter = iter(dataloader)\n",
    "    for _ in range(epochs):\n",
    "        batch, labels = next(dataiter)\n",
    "\n",
    "        preds = model(batch)\n",
    "        loss = nll(preds, labels)\n",
    "\n",
    "        # calculate the gradients\n",
    "        loss.backward()\n",
    "        with torch.no_grad():\n",
    "            for p in model.parameters():\n",
    "                p -= p.grad * learning_rate\n",
    "            model.zero_grad()\n",
    "        \n",
    "model = MnistLogistic()\n",
    "train(model, epochs=100, learning_rate=0.1)\n",
    "\n",
    "# check the prediction accuracy of the model\n",
    "test_dataloader = DataLoader(validation_data, batch_size=64, shuffle=True)\n",
    "test_samples, test_labels = next(iter(test_dataloader))\n",
    "preds = model(test_samples)\n",
    "print(accuracy(preds, test_labels))\n"
   ]
  },
  {
   "cell_type": "markdown",
   "id": "2838196e",
   "metadata": {},
   "source": [
    "## Refactor using `nn.linear`\n",
    "Further refactoring will allow us to get rid of manually defined weights and biases: we will use PyTorch class `nn.Linear` instead."
   ]
  },
  {
   "cell_type": "code",
   "execution_count": 10,
   "id": "8f7d14bc",
   "metadata": {},
   "outputs": [
    {
     "name": "stdout",
     "output_type": "stream",
     "text": [
      "tensor(0.6875)\n"
     ]
    }
   ],
   "source": [
    "class MnistLogistic2(nn.Module):\n",
    "    def __init__(self):\n",
    "        super().__init__()\n",
    "        self.flatten = nn.Flatten(end_dim=-1)\n",
    "        self.linear = nn.Linear(784, 10)\n",
    "\n",
    "    def forward(self, x):\n",
    "        return self.linear(self.flatten(x))\n",
    "    \n",
    "model2 = MnistLogistic2()\n",
    "train(model2, epochs=100, learning_rate=0.1)\n",
    "preds = model2(test_samples)\n",
    "print(accuracy(preds, test_labels))"
   ]
  },
  {
   "cell_type": "markdown",
   "id": "a3300206",
   "metadata": {},
   "source": [
    "## Refactor using `torch.optim`\n",
    "Instead of manually updating parameters we can utilize `torch.optim`, that was created especially for that."
   ]
  },
  {
   "cell_type": "code",
   "execution_count": 11,
   "id": "6c0cd9ca",
   "metadata": {},
   "outputs": [
    {
     "name": "stdout",
     "output_type": "stream",
     "text": [
      "tensor(0.6250)\n"
     ]
    }
   ],
   "source": [
    "from torch import optim\n",
    "\n",
    "def train2(model, epochs, opt):\n",
    "    dataiter = iter(dataloader)\n",
    "    for _ in range(epochs):\n",
    "        batch, labels = next(dataiter)\n",
    "\n",
    "        preds = model(batch)\n",
    "        loss = nll(preds, labels)\n",
    "\n",
    "        # calculate the gradients\n",
    "        loss.backward()\n",
    "        # updates NN parameters\n",
    "        opt.step()\n",
    "        # zeroes gradients\n",
    "        opt.zero_grad()\n",
    "\n",
    "def get_model():\n",
    "    model = MnistLogistic2()\n",
    "    optimizer = optim.SGD(model.parameters(), lr=0.1)\n",
    "    return model, optimizer\n",
    "\n",
    "model2, opt = get_model()\n",
    "train2(model2, epochs=100, opt=opt)\n",
    "preds = model2(test_samples)\n",
    "print(accuracy(preds, test_labels))"
   ]
  },
  {
   "cell_type": "markdown",
   "id": "0a4dd8a0",
   "metadata": {},
   "source": [
    "## Validation and futher refactoring\n",
    "If we want to go through a similar process twice: calculating the loss for both the training and validation sets, it makes sense to define a function `loss_batch`, which computes the loss for one batch."
   ]
  },
  {
   "cell_type": "code",
   "execution_count": 12,
   "id": "74710097",
   "metadata": {},
   "outputs": [],
   "source": [
    "def loss_batch(model, loss_func, xb, yb, opt=None):\n",
    "    # calculate loss\n",
    "    loss = loss_func(model(xb), yb)\n",
    "\n",
    "    if opt is not None:\n",
    "        # propagate gradients\n",
    "        loss.backward()\n",
    "        # update parameters\n",
    "        opt.step()\n",
    "        # zeroes gradients\n",
    "        opt.zero_grad()\n",
    "\n",
    "    logits = model(xb)\n",
    "    with torch.no_grad():\n",
    "        pred = logits.argmax(1)\n",
    "        correct = (pred == yb).sum().item()\n",
    "\n",
    "    n = yb.size(0)\n",
    "    return loss.item(), n, correct\n",
    "\n",
    "def train(model, loss_func, opt, train_dl, valid_dl, epochs=5):\n",
    "    for epoch in range(epochs):\n",
    "        model.train()\n",
    "        for xb, yb in train_dl:\n",
    "            loss_batch(model, loss_func, xb, yb, opt)\n",
    "\n",
    "        model.eval()\n",
    "        with torch.no_grad():\n",
    "            outs = [loss_batch(model, loss_func, xb, yb) for xb, yb in valid_dl]\n",
    "            losses, ns, corrects = zip(*outs)\n",
    "            val_loss = sum(l*n for l, n in zip(losses, ns)) / sum(ns)\n",
    "            val_acc  = sum(corrects) / sum(ns)          # 0..1     \n",
    "\n",
    "        print(f\"epoch {epoch}: val_loss={val_loss:.3f}, val_acc={val_acc:.3f}\")\n",
    "\n",
    "def get_data(train_ds, valid_ds, bs):\n",
    "    return (\n",
    "        DataLoader(train_ds, batch_size=bs, shuffle=True),\n",
    "        DataLoader(valid_ds, batch_size=bs * 2),\n",
    "    )"
   ]
  },
  {
   "cell_type": "markdown",
   "id": "6eee7188",
   "metadata": {},
   "source": [
    "Now all the process can be run in 3 lines of code:"
   ]
  },
  {
   "cell_type": "code",
   "execution_count": 13,
   "id": "bee25ae9",
   "metadata": {},
   "outputs": [
    {
     "name": "stdout",
     "output_type": "stream",
     "text": [
      "epoch 0: val_loss=0.338, val_acc=0.907\n",
      "epoch 1: val_loss=0.307, val_acc=0.915\n",
      "epoch 2: val_loss=0.297, val_acc=0.919\n",
      "epoch 3: val_loss=0.290, val_acc=0.919\n",
      "epoch 4: val_loss=0.283, val_acc=0.920\n"
     ]
    }
   ],
   "source": [
    "model, opt = get_model()\n",
    "loss_func = F.cross_entropy\n",
    "train_dl, valid_dl = get_data(training_data, validation_data, 64)\n",
    "train(model, loss_func, opt, train_dl, valid_dl, 5)"
   ]
  },
  {
   "cell_type": "markdown",
   "id": "dc265852",
   "metadata": {},
   "source": [
    "## Switching to CNN\n",
    "Since now the model is abstracted from optimizaer and from training/validation data, we should be able to easily replace it with another one and train it.\n",
    "Let's define the network architechture with 3 convolution layers."
   ]
  },
  {
   "cell_type": "code",
   "execution_count": 14,
   "id": "3307b234",
   "metadata": {},
   "outputs": [
    {
     "name": "stdout",
     "output_type": "stream",
     "text": [
      "epoch 0: val_loss=0.139, val_acc=0.959\n",
      "epoch 1: val_loss=0.111, val_acc=0.967\n",
      "epoch 2: val_loss=0.082, val_acc=0.974\n",
      "epoch 3: val_loss=0.063, val_acc=0.981\n",
      "epoch 4: val_loss=0.069, val_acc=0.979\n"
     ]
    }
   ],
   "source": [
    "class MnistCnn(nn.Module):\n",
    "    def __init__(self):\n",
    "        super().__init__()\n",
    "        self.unflatten = nn.Unflatten(-1, (1, 28, 28))\n",
    "        self.features = nn.Sequential(\n",
    "            nn.Conv2d(1, 16, kernel_size=3, stride=2, padding=1),\n",
    "            nn.ReLU(),\n",
    "            nn.Conv2d(16, 32, kernel_size=3, stride=2, padding=1),\n",
    "            nn.ReLU(),\n",
    "            nn.Conv2d(32, 64, kernel_size=3, stride=2, padding=1),\n",
    "            nn.ReLU()\n",
    "        )\n",
    "        self.pool = nn.AdaptiveAvgPool2d(1)\n",
    "        self.classifier = nn.Linear(64, 10)\n",
    "\n",
    "    def forward(self, x):\n",
    "        if x.dim() == 2:\n",
    "            x = self.unflatten(x)   # -> [1, 28, 28]\n",
    "        x = self.features(x)        # -> [64, 4, 4]\n",
    "        x = self.pool(x).flatten(1) # -> [64]\n",
    "        return self.classifier(x)   # -> logits [10]\n",
    "\n",
    "model = MnistCnn()\n",
    "loss_func = F.cross_entropy\n",
    "opt = optim.SGD(model.parameters(), lr=0.1, momentum=0.9)\n",
    "train_dl, valid_dl = get_data(training_data, validation_data, 64)\n",
    "\n",
    "train(model, loss_func, opt, train_dl, valid_dl, 5)"
   ]
  }
 ],
 "metadata": {
  "kernelspec": {
   "display_name": "experiments",
   "language": "python",
   "name": "python3"
  },
  "language_info": {
   "codemirror_mode": {
    "name": "ipython",
    "version": 3
   },
   "file_extension": ".py",
   "mimetype": "text/x-python",
   "name": "python",
   "nbconvert_exporter": "python",
   "pygments_lexer": "ipython3",
   "version": "3.10.12"
  }
 },
 "nbformat": 4,
 "nbformat_minor": 5
}
